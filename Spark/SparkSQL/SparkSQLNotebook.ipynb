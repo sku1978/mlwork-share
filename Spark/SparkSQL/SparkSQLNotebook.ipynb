{
  "nbformat": 4,
  "nbformat_minor": 0,
  "metadata": {
    "colab": {
      "name": "Untitled1.ipynb",
      "provenance": [],
      "authorship_tag": "ABX9TyOEY1APUP4Irh5L+IhJikE+",
      "include_colab_link": true
    },
    "kernelspec": {
      "name": "python3",
      "display_name": "Python 3"
    },
    "language_info": {
      "name": "python"
    }
  },
  "cells": [
    {
      "cell_type": "markdown",
      "metadata": {
        "id": "view-in-github",
        "colab_type": "text"
      },
      "source": [
        "<a href=\"https://colab.research.google.com/github/sku1978/sk-share-repo/blob/main/Spark/SparkSQL/SparkSQLNotebook.ipynb\" target=\"_parent\"><img src=\"https://colab.research.google.com/assets/colab-badge.svg\" alt=\"Open In Colab\"/></a>"
      ]
    },
    {
      "cell_type": "code",
      "metadata": {
        "id": "WhiBxUATKbVB"
      },
      "source": [
        "!apt-get install openjdk-8-jdk-headless -qq  > /dev/null \n",
        "!wget -q https://downloads.apache.org/spark/spark-3.1.1/spark-3.1.1-bin-hadoop3.2.tgz\n",
        "!tar xf spark-3.1.1-bin-hadoop3.2.tgz > /dev/null \n",
        "!pip install -q findspark"
      ],
      "execution_count": 1,
      "outputs": []
    },
    {
      "cell_type": "code",
      "metadata": {
        "id": "5veJKNsaD8gv"
      },
      "source": [
        "!mkdir /content/conf /content/lib\n",
        "!wget -O /content/conf/log4j.properties https://raw.githubusercontent.com/sku1978/sk-share-repo/main/Spark/SparkDataFrame/conf/log4j.properties > /dev/null 2>&1\n",
        "!mv /content/spark-3.1.1-bin-hadoop3.2/conf/spark-defaults.conf /content/spark-3.1.1-bin-hadoop3.2/conf/spark-defaults.conf.bk  > /dev/null 2>&1\n",
        "!wget -O /content/spark-3.1.1-bin-hadoop3.2/conf/spark-defaults.conf https://raw.githubusercontent.com/sku1978/sk-share-repo/main/Spark/SparkDataFrame/conf/spark-defaults.conf  > /dev/null 2>&1\n",
        "!wget -O /content/conf/spark.conf https://raw.githubusercontent.com/sku1978/sk-share-repo/main/Spark/SparkDataFrame/conf/spark.conf > /dev/null 2>&1\n",
        "\n",
        "!wget -O /content/lib/logger.py https://raw.githubusercontent.com/sku1978/sk-share-repo/main/Spark/SparkDataFrame/lib/logger.py  > /dev/null 2>&1\n",
        "!wget -O /content/lib/utils.py https://raw.githubusercontent.com/sku1978/sk-share-repo/main/Spark/SparkDataFrame/lib/utils.py  > /dev/null 2>&1"
      ],
      "execution_count": 2,
      "outputs": []
    },
    {
      "cell_type": "code",
      "metadata": {
        "id": "DVA-bBFsCPyz",
        "colab": {
          "base_uri": "https://localhost:8080/",
          "height": 35
        },
        "outputId": "72222988-fce6-4cea-fce4-cf9957a51900"
      },
      "source": [
        "import os\n",
        "os.environ[\"JAVA_HOME\"] = \"/usr/lib/jvm/java-8-openjdk-amd64\"\n",
        "os.environ[\"SPARK_HOME\"] = \"/content/spark-3.1.1-bin-hadoop3.2\"\n",
        "\n",
        "import findspark\n",
        "findspark.init()\n",
        "findspark.find()"
      ],
      "execution_count": 3,
      "outputs": [
        {
          "output_type": "execute_result",
          "data": {
            "application/vnd.google.colaboratory.intrinsic+json": {
              "type": "string"
            },
            "text/plain": [
              "'/content/spark-3.1.1-bin-hadoop3.2'"
            ]
          },
          "metadata": {
            "tags": []
          },
          "execution_count": 3
        }
      ]
    },
    {
      "cell_type": "code",
      "metadata": {
        "id": "yhLCqy4a6ihE"
      },
      "source": [
        "#!wget https://bin.equinox.io/c/4VmDzA7iaHb/ngrok-stable-linux-amd64.zip\n",
        "#!unzip ngrok-stable-linux-amd64.zip\n",
        "#get_ipython().system_raw('./ngrok http 4050 &')"
      ],
      "execution_count": 4,
      "outputs": []
    },
    {
      "cell_type": "code",
      "metadata": {
        "id": "gSxhuV046is1"
      },
      "source": [
        "#!curl -s http://localhost:4040/api/tunnels"
      ],
      "execution_count": 5,
      "outputs": []
    },
    {
      "cell_type": "code",
      "metadata": {
        "id": "xPD-t1kD5bEI"
      },
      "source": [
        "def load_survey_df(spark, url):\n",
        "   spark.sparkContext.addFile(url)\n",
        "\n",
        "   survey_df=spark.read \\\n",
        "   .format(\"csv\") \\\n",
        "   .option(\"header\", \"true\") \\\n",
        "   .option(\"inferSchema\", \"true\") \\\n",
        "   .load('file://'+SparkFiles.get(\"sample.csv\"))\n",
        "\n",
        "   return survey_df\n"
      ],
      "execution_count": 6,
      "outputs": []
    },
    {
      "cell_type": "code",
      "metadata": {
        "id": "3Jim-sE5KqDe"
      },
      "source": [
        "from pyspark.sql import *\n",
        "from pyspark import SparkConf, SparkFiles\n",
        "from lib.logger import Log4J\n",
        "from lib.utils import get_spark_app_config\n",
        "\n",
        "conf=get_spark_app_config()\n",
        "\n",
        "spark = SparkSession.builder\\\n",
        "        .config(conf=conf)\\\n",
        "        .getOrCreate()\n",
        "\n",
        "logger = Log4J(spark)\n",
        "\n",
        "logger.info(\"Staring Application\")\n",
        "\n",
        "url='https://raw.githubusercontent.com/sku1978/sk-share-repo/main/Spark/SparkDataFrame/data/sample.csv'\n",
        "\n",
        "survey_df=load_survey_df(spark, url)\n",
        "\n",
        "survey_df.createOrReplaceTempView(\"surveyview\")\n",
        "\n",
        "count_df=spark.sql(\"SELECT Country, count(1) as count FROM surveyview WHERE Age < 40 GROUP BY Country\")\n",
        "\n",
        "logger.info(count_df.collect())\n",
        "\n",
        "logger.info(\"Ending Application\")"
      ],
      "execution_count": 11,
      "outputs": []
    },
    {
      "cell_type": "code",
      "metadata": {
        "id": "uRtr-fRE5_3w",
        "colab": {
          "base_uri": "https://localhost:8080/"
        },
        "outputId": "85c8a5bf-7f68-4533-91f2-318cd77fab17"
      },
      "source": [
        "!cat app-logs/sparklog.log"
      ],
      "execution_count": 12,
      "outputs": [
        {
          "output_type": "stream",
          "text": [
            "21/04/05 16:09:55 INFO Hello World: Staring Application\n",
            "21/04/05 16:10:05 INFO Hello World: [[2014-08-27 11:29:31, 37, Female, United States, IL, NA, No, Yes, Often, 6-25, No, Yes, Yes, Not sure, No, Yes, Yes, Somewhat easy, No, No, Some of them, Yes, No, Maybe, Yes, No, NA], [2014-08-27 11:29:37, 44, M, United States, IN, NA, No, No, Rarely, More than 1000, No, No, Don't know, No, Don't know, Don't know, Don't know, Don't know, Maybe, No, No, No, No, No, Don't know, No, NA], [2014-08-27 11:29:44, 32, Male, Canada, NA, NA, No, No, Rarely, 6-25, No, Yes, No, No, No, No, Don't know, Somewhat difficult, No, No, Yes, Yes, Yes, Yes, No, No, NA], [2014-08-27 11:29:46, 31, Male, United Kingdom, NA, NA, Yes, Yes, Often, 26-100, No, Yes, No, Yes, No, No, No, Somewhat difficult, Yes, Yes, Some of them, No, Maybe, Maybe, No, Yes, NA], [2014-08-27 11:30:22, 31, Male, United States, TX, NA, No, No, Never, 100-500, Yes, Yes, Yes, No, Don't know, Don't know, Don't know, Don't know, No, No, Some of them, Yes, Yes, Yes, Don't know, No, NA], [2014-08-27 11:31:22, 33, Male, United States, TN, NA, Yes, No, Sometimes, 6-25, No, Yes, Yes, Not sure, No, Don't know, Don't know, Don't know, No, No, Yes, Yes, No, Maybe, Don't know, No, NA], [2014-08-27 11:31:50, 35, Female, United States, MI, NA, Yes, Yes, Sometimes, 1-5, Yes, Yes, No, No, No, No, No, Somewhat difficult, Maybe, Maybe, Some of them, No, No, No, Don't know, No, NA], [2014-08-27 11:32:05, 39, M, Canada, NA, NA, No, No, Never, 1-5, Yes, Yes, No, Yes, No, No, Yes, Don't know, No, No, No, No, No, No, No, No, NA], [2014-08-27 11:32:39, 42, Female, United States, IL, NA, Yes, Yes, Sometimes, 100-500, No, Yes, Yes, Yes, No, No, No, Very difficult, Maybe, No, Yes, Yes, No, Maybe, No, No, NA]]\n",
            "21/04/05 16:10:05 INFO Hello World: Ending Application\n",
            "21/04/05 16:11:54 INFO Hello World: Staring Application\n",
            "21/04/05 16:11:56 INFO Hello World: [[2014-08-27 11:29:31, 37, Female, United States, IL, NA, No, Yes, Often, 6-25, No, Yes, Yes, Not sure, No, Yes, Yes, Somewhat easy, No, No, Some of them, Yes, No, Maybe, Yes, No, NA], [2014-08-27 11:29:37, 44, M, United States, IN, NA, No, No, Rarely, More than 1000, No, No, Don't know, No, Don't know, Don't know, Don't know, Don't know, Maybe, No, No, No, No, No, Don't know, No, NA], [2014-08-27 11:29:44, 32, Male, Canada, NA, NA, No, No, Rarely, 6-25, No, Yes, No, No, No, No, Don't know, Somewhat difficult, No, No, Yes, Yes, Yes, Yes, No, No, NA], [2014-08-27 11:29:46, 31, Male, United Kingdom, NA, NA, Yes, Yes, Often, 26-100, No, Yes, No, Yes, No, No, No, Somewhat difficult, Yes, Yes, Some of them, No, Maybe, Maybe, No, Yes, NA], [2014-08-27 11:30:22, 31, Male, United States, TX, NA, No, No, Never, 100-500, Yes, Yes, Yes, No, Don't know, Don't know, Don't know, Don't know, No, No, Some of them, Yes, Yes, Yes, Don't know, No, NA], [2014-08-27 11:31:22, 33, Male, United States, TN, NA, Yes, No, Sometimes, 6-25, No, Yes, Yes, Not sure, No, Don't know, Don't know, Don't know, No, No, Yes, Yes, No, Maybe, Don't know, No, NA], [2014-08-27 11:31:50, 35, Female, United States, MI, NA, Yes, Yes, Sometimes, 1-5, Yes, Yes, No, No, No, No, No, Somewhat difficult, Maybe, Maybe, Some of them, No, No, No, Don't know, No, NA], [2014-08-27 11:32:05, 39, M, Canada, NA, NA, No, No, Never, 1-5, Yes, Yes, No, Yes, No, No, Yes, Don't know, No, No, No, No, No, No, No, No, NA], [2014-08-27 11:32:39, 42, Female, United States, IL, NA, Yes, Yes, Sometimes, 100-500, No, Yes, Yes, Yes, No, No, No, Very difficult, Maybe, No, Yes, Yes, No, Maybe, No, No, NA]]\n",
            "21/04/05 16:11:56 INFO Hello World: Ending Application\n",
            "21/04/05 16:12:11 INFO Hello World: Staring Application\n",
            "21/04/05 16:12:13 INFO Hello World: [[United States, 4], [Canada, 2], [United Kingdom, 1]]\n",
            "21/04/05 16:12:13 INFO Hello World: Ending Application\n"
          ],
          "name": "stdout"
        }
      ]
    }
  ]
}