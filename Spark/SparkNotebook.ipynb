{
  "nbformat": 4,
  "nbformat_minor": 0,
  "metadata": {
    "colab": {
      "name": "Untitled1.ipynb",
      "provenance": [],
      "authorship_tag": "ABX9TyNaUGlyONiKI/mbkmMyebFx",
      "include_colab_link": true
    },
    "kernelspec": {
      "name": "python3",
      "display_name": "Python 3"
    },
    "language_info": {
      "name": "python"
    }
  },
  "cells": [
    {
      "cell_type": "markdown",
      "metadata": {
        "id": "view-in-github",
        "colab_type": "text"
      },
      "source": [
        "<a href=\"https://colab.research.google.com/github/sku1978/sk-share-repo/blob/main/Spark/SparkNotebook.ipynb\" target=\"_parent\"><img src=\"https://colab.research.google.com/assets/colab-badge.svg\" alt=\"Open In Colab\"/></a>"
      ]
    },
    {
      "cell_type": "code",
      "metadata": {
        "id": "WhiBxUATKbVB",
        "outputId": "c0cf1661-e594-4427-8d95-134e54298a79",
        "colab": {
          "base_uri": "https://localhost:8080/",
          "height": 443
        }
      },
      "source": [
        "!apt-get install openjdk-8-jdk-headless -qq \n",
        "!wget -q https://downloads.apache.org/spark/spark-3.1.1/spark-3.1.1-bin-hadoop3.2.tgz\n",
        "!tar xf spark-3.1.1-bin-hadoop3.2.tgz\n",
        "!pip install -q findspark\n",
        "\n",
        "import os\n",
        "os.environ[\"JAVA_HOME\"] = \"/usr/lib/jvm/java-8-openjdk-amd64\"\n",
        "os.environ[\"SPARK_HOME\"] = \"/content/spark-3.1.1-bin-hadoop3.2\"\n",
        "\n",
        "import findspark\n",
        "findspark.init()\n",
        "findspark.find()"
      ],
      "execution_count": 1,
      "outputs": [
        {
          "output_type": "stream",
          "text": [
            "Selecting previously unselected package openjdk-8-jre-headless:amd64.\n",
            "(Reading database ... 160980 files and directories currently installed.)\n",
            "Preparing to unpack .../openjdk-8-jre-headless_8u282-b08-0ubuntu1~18.04_amd64.deb ...\n",
            "Unpacking openjdk-8-jre-headless:amd64 (8u282-b08-0ubuntu1~18.04) ...\n",
            "Selecting previously unselected package openjdk-8-jdk-headless:amd64.\n",
            "Preparing to unpack .../openjdk-8-jdk-headless_8u282-b08-0ubuntu1~18.04_amd64.deb ...\n",
            "Unpacking openjdk-8-jdk-headless:amd64 (8u282-b08-0ubuntu1~18.04) ...\n",
            "Setting up openjdk-8-jre-headless:amd64 (8u282-b08-0ubuntu1~18.04) ...\n",
            "update-alternatives: using /usr/lib/jvm/java-8-openjdk-amd64/jre/bin/orbd to provide /usr/bin/orbd (orbd) in auto mode\n",
            "update-alternatives: using /usr/lib/jvm/java-8-openjdk-amd64/jre/bin/servertool to provide /usr/bin/servertool (servertool) in auto mode\n",
            "update-alternatives: using /usr/lib/jvm/java-8-openjdk-amd64/jre/bin/tnameserv to provide /usr/bin/tnameserv (tnameserv) in auto mode\n",
            "Setting up openjdk-8-jdk-headless:amd64 (8u282-b08-0ubuntu1~18.04) ...\n",
            "update-alternatives: using /usr/lib/jvm/java-8-openjdk-amd64/bin/idlj to provide /usr/bin/idlj (idlj) in auto mode\n",
            "update-alternatives: using /usr/lib/jvm/java-8-openjdk-amd64/bin/wsimport to provide /usr/bin/wsimport (wsimport) in auto mode\n",
            "update-alternatives: using /usr/lib/jvm/java-8-openjdk-amd64/bin/jsadebugd to provide /usr/bin/jsadebugd (jsadebugd) in auto mode\n",
            "update-alternatives: using /usr/lib/jvm/java-8-openjdk-amd64/bin/native2ascii to provide /usr/bin/native2ascii (native2ascii) in auto mode\n",
            "update-alternatives: using /usr/lib/jvm/java-8-openjdk-amd64/bin/javah to provide /usr/bin/javah (javah) in auto mode\n",
            "update-alternatives: using /usr/lib/jvm/java-8-openjdk-amd64/bin/hsdb to provide /usr/bin/hsdb (hsdb) in auto mode\n",
            "update-alternatives: using /usr/lib/jvm/java-8-openjdk-amd64/bin/clhsdb to provide /usr/bin/clhsdb (clhsdb) in auto mode\n",
            "update-alternatives: using /usr/lib/jvm/java-8-openjdk-amd64/bin/xjc to provide /usr/bin/xjc (xjc) in auto mode\n",
            "update-alternatives: using /usr/lib/jvm/java-8-openjdk-amd64/bin/schemagen to provide /usr/bin/schemagen (schemagen) in auto mode\n",
            "update-alternatives: using /usr/lib/jvm/java-8-openjdk-amd64/bin/extcheck to provide /usr/bin/extcheck (extcheck) in auto mode\n",
            "update-alternatives: using /usr/lib/jvm/java-8-openjdk-amd64/bin/jhat to provide /usr/bin/jhat (jhat) in auto mode\n",
            "update-alternatives: using /usr/lib/jvm/java-8-openjdk-amd64/bin/wsgen to provide /usr/bin/wsgen (wsgen) in auto mode\n"
          ],
          "name": "stdout"
        },
        {
          "output_type": "execute_result",
          "data": {
            "application/vnd.google.colaboratory.intrinsic+json": {
              "type": "string"
            },
            "text/plain": [
              "'/content/spark-3.1.1-bin-hadoop3.2'"
            ]
          },
          "metadata": {
            "tags": []
          },
          "execution_count": 1
        }
      ]
    },
    {
      "cell_type": "code",
      "metadata": {
        "id": "3Jim-sE5KqDe",
        "outputId": "f325e225-54b5-41b8-c2a8-83f1d6b8afc2",
        "colab": {
          "base_uri": "https://localhost:8080/",
          "height": 216
        }
      },
      "source": [
        "from pyspark.sql import SparkSession\n",
        "\n",
        "spark = SparkSession.builder\\\n",
        "        .master(\"local\")\\\n",
        "        .appName(\"Colab\")\\\n",
        "        .config('spark.ui.port', '4050')\\\n",
        "        .getOrCreate()\n",
        "\n",
        "spark"
      ],
      "execution_count": 2,
      "outputs": [
        {
          "output_type": "execute_result",
          "data": {
            "text/html": [
              "\n",
              "            <div>\n",
              "                <p><b>SparkSession - in-memory</b></p>\n",
              "                \n",
              "        <div>\n",
              "            <p><b>SparkContext</b></p>\n",
              "\n",
              "            <p><a href=\"http://8a75b966cc69:4050\">Spark UI</a></p>\n",
              "\n",
              "            <dl>\n",
              "              <dt>Version</dt>\n",
              "                <dd><code>v3.1.1</code></dd>\n",
              "              <dt>Master</dt>\n",
              "                <dd><code>local</code></dd>\n",
              "              <dt>AppName</dt>\n",
              "                <dd><code>Colab</code></dd>\n",
              "            </dl>\n",
              "        </div>\n",
              "        \n",
              "            </div>\n",
              "        "
            ],
            "text/plain": [
              "<pyspark.sql.session.SparkSession at 0x7f6cd00e6790>"
            ]
          },
          "metadata": {
            "tags": []
          },
          "execution_count": 2
        }
      ]
    },
    {
      "cell_type": "code",
      "metadata": {
        "id": "rGPnDGYeLBTY",
        "outputId": "6f5d440a-e0c9-42e2-c257-f0e190b5b976",
        "colab": {
          "base_uri": "https://localhost:8080/"
        }
      },
      "source": [
        "!wget https://bin.equinox.io/c/4VmDzA7iaHb/ngrok-stable-linux-amd64.zip\n",
        "!unzip ngrok-stable-linux-amd64.zip\n",
        "get_ipython().system_raw('./ngrok http 4050 &')"
      ],
      "execution_count": 3,
      "outputs": [
        {
          "output_type": "stream",
          "text": [
            "--2021-03-30 13:14:56--  https://bin.equinox.io/c/4VmDzA7iaHb/ngrok-stable-linux-amd64.zip\n",
            "Resolving bin.equinox.io (bin.equinox.io)... 54.235.211.105, 34.225.127.47, 54.209.152.48, ...\n",
            "Connecting to bin.equinox.io (bin.equinox.io)|54.235.211.105|:443... connected.\n",
            "HTTP request sent, awaiting response... 200 OK\n",
            "Length: 14746350 (14M) [application/octet-stream]\n",
            "Saving to: ‘ngrok-stable-linux-amd64.zip’\n",
            "\n",
            "ngrok-stable-linux- 100%[===================>]  14.06M  7.13MB/s    in 2.0s    \n",
            "\n",
            "2021-03-30 13:14:59 (7.13 MB/s) - ‘ngrok-stable-linux-amd64.zip’ saved [14746350/14746350]\n",
            "\n",
            "Archive:  ngrok-stable-linux-amd64.zip\n",
            "  inflating: ngrok                   \n",
            "{\"tunnels\":[],\"uri\":\"/api/tunnels\"}\n"
          ],
          "name": "stdout"
        }
      ]
    },
    {
      "cell_type": "code",
      "metadata": {
        "id": "t7BhiFb5R5_0",
        "outputId": "fea1410c-4761-47c4-e470-963eebdd1daf",
        "colab": {
          "base_uri": "https://localhost:8080/"
        }
      },
      "source": [
        "!curl -s http://localhost:4040/api/tunnels"
      ],
      "execution_count": 4,
      "outputs": [
        {
          "output_type": "stream",
          "text": [
            "{\"tunnels\":[{\"name\":\"command_line\",\"uri\":\"/api/tunnels/command_line\",\"public_url\":\"https://cee4852ea9f6.ngrok.io\",\"proto\":\"https\",\"config\":{\"addr\":\"http://localhost:4050\",\"inspect\":true},\"metrics\":{\"conns\":{\"count\":0,\"gauge\":0,\"rate1\":0,\"rate5\":0,\"rate15\":0,\"p50\":0,\"p90\":0,\"p95\":0,\"p99\":0},\"http\":{\"count\":0,\"rate1\":0,\"rate5\":0,\"rate15\":0,\"p50\":0,\"p90\":0,\"p95\":0,\"p99\":0}}},{\"name\":\"command_line (http)\",\"uri\":\"/api/tunnels/command_line%20%28http%29\",\"public_url\":\"http://cee4852ea9f6.ngrok.io\",\"proto\":\"http\",\"config\":{\"addr\":\"http://localhost:4050\",\"inspect\":true},\"metrics\":{\"conns\":{\"count\":0,\"gauge\":0,\"rate1\":0,\"rate5\":0,\"rate15\":0,\"p50\":0,\"p90\":0,\"p95\":0,\"p99\":0},\"http\":{\"count\":0,\"rate1\":0,\"rate5\":0,\"rate15\":0,\"p50\":0,\"p90\":0,\"p95\":0,\"p99\":0}}}],\"uri\":\"/api/tunnels\"}\n"
          ],
          "name": "stdout"
        }
      ]
    },
    {
      "cell_type": "code",
      "metadata": {
        "id": "FDtnFiqwTOcN"
      },
      "source": [
        "url = \"https://raw.githubusercontent.com/sku1978/sk-share-repo/main/LinearRegression/insurance.csv\"\n",
        "from pyspark import SparkFiles\n",
        "spark.sparkContext.addFile(url)\n",
        "\n",
        "df = spark.read.csv(\"file://\"+SparkFiles.get(\"insurance.csv\"), header=True, inferSchema= True)"
      ],
      "execution_count": 6,
      "outputs": []
    },
    {
      "cell_type": "code",
      "metadata": {
        "id": "KI9Nnd9OUCoP",
        "outputId": "f323f0aa-f0e5-4e70-90c8-110efce8fdb4",
        "colab": {
          "base_uri": "https://localhost:8080/"
        }
      },
      "source": [
        "df.select(['age', 'bmi']).show(100)"
      ],
      "execution_count": 11,
      "outputs": [
        {
          "output_type": "stream",
          "text": [
            "+---+------+\n",
            "|age|   bmi|\n",
            "+---+------+\n",
            "| 19|  27.9|\n",
            "| 18| 33.77|\n",
            "| 28|  33.0|\n",
            "| 33|22.705|\n",
            "| 32| 28.88|\n",
            "| 31| 25.74|\n",
            "| 46| 33.44|\n",
            "| 37| 27.74|\n",
            "| 37| 29.83|\n",
            "| 60| 25.84|\n",
            "| 25| 26.22|\n",
            "| 62| 26.29|\n",
            "| 23|  34.4|\n",
            "| 56| 39.82|\n",
            "| 27| 42.13|\n",
            "| 19|  24.6|\n",
            "| 52| 30.78|\n",
            "| 23|23.845|\n",
            "| 56|  40.3|\n",
            "| 30|  35.3|\n",
            "| 60|36.005|\n",
            "| 30|  32.4|\n",
            "| 18|  34.1|\n",
            "| 34| 31.92|\n",
            "| 37|28.025|\n",
            "| 59| 27.72|\n",
            "| 63|23.085|\n",
            "| 55|32.775|\n",
            "| 23|17.385|\n",
            "| 31|  36.3|\n",
            "| 22|  35.6|\n",
            "| 18|26.315|\n",
            "| 19|  28.6|\n",
            "| 63| 28.31|\n",
            "| 28|  36.4|\n",
            "| 19|20.425|\n",
            "| 62|32.965|\n",
            "| 26|  20.8|\n",
            "| 35| 36.67|\n",
            "| 60|  39.9|\n",
            "| 24|  26.6|\n",
            "| 31| 36.63|\n",
            "| 41| 21.78|\n",
            "| 37|  30.8|\n",
            "| 38| 37.05|\n",
            "| 55|  37.3|\n",
            "| 18|38.665|\n",
            "| 28| 34.77|\n",
            "| 60| 24.53|\n",
            "| 36|  35.2|\n",
            "| 18|35.625|\n",
            "| 21| 33.63|\n",
            "| 48|  28.0|\n",
            "| 36| 34.43|\n",
            "| 40| 28.69|\n",
            "| 58|36.955|\n",
            "| 58|31.825|\n",
            "| 18| 31.68|\n",
            "| 53| 22.88|\n",
            "| 34|37.335|\n",
            "| 43| 27.36|\n",
            "| 25| 33.66|\n",
            "| 64|  24.7|\n",
            "| 28|25.935|\n",
            "| 20| 22.42|\n",
            "| 19|  28.9|\n",
            "| 61|  39.1|\n",
            "| 40|26.315|\n",
            "| 40| 36.19|\n",
            "| 28| 23.98|\n",
            "| 27| 24.75|\n",
            "| 31|  28.5|\n",
            "| 53|  28.1|\n",
            "| 58| 32.01|\n",
            "| 44|  27.4|\n",
            "| 57| 34.01|\n",
            "| 29| 29.59|\n",
            "| 21| 35.53|\n",
            "| 22|39.805|\n",
            "| 41|32.965|\n",
            "| 31|26.885|\n",
            "| 45|38.285|\n",
            "| 22| 37.62|\n",
            "| 48| 41.23|\n",
            "| 37|  34.8|\n",
            "| 45|22.895|\n",
            "| 57| 31.16|\n",
            "| 56|  27.2|\n",
            "| 46| 27.74|\n",
            "| 55| 26.98|\n",
            "| 21| 39.49|\n",
            "| 53|24.795|\n",
            "| 59| 29.83|\n",
            "| 35| 34.77|\n",
            "| 64|  31.3|\n",
            "| 28| 37.62|\n",
            "| 54|  30.8|\n",
            "| 55| 38.28|\n",
            "| 56| 19.95|\n",
            "| 38|  19.3|\n",
            "+---+------+\n",
            "only showing top 100 rows\n",
            "\n"
          ],
          "name": "stdout"
        }
      ]
    }
  ]
}