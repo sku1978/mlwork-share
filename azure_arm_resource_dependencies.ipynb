{
  "nbformat": 4,
  "nbformat_minor": 0,
  "metadata": {
    "colab": {
      "name": "json_parser.ipynb",
      "provenance": [],
      "collapsed_sections": [
        "cllAmC9vUlgA"
      ],
      "include_colab_link": true
    },
    "kernelspec": {
      "name": "python3",
      "display_name": "Python 3"
    },
    "language_info": {
      "name": "python"
    }
  },
  "cells": [
    {
      "cell_type": "markdown",
      "metadata": {
        "id": "view-in-github",
        "colab_type": "text"
      },
      "source": [
        "<a href=\"https://colab.research.google.com/github/sku1978/sk-share-repo/blob/main/azure_arm_resource_dependencies.ipynb\" target=\"_parent\"><img src=\"https://colab.research.google.com/assets/colab-badge.svg\" alt=\"Open In Colab\"/></a>"
      ]
    },
    {
      "cell_type": "markdown",
      "metadata": {
        "id": "FvgZQaPlUYIc"
      },
      "source": [
        "# Dependencies in ARM file"
      ]
    },
    {
      "cell_type": "code",
      "metadata": {
        "id": "qH-FCuMgUyas"
      },
      "source": [
        "import json\n",
        "import pandas as pd\n",
        "from pandas import json_normalize\n",
        "\n",
        "pd.set_option('max_rows', 99999)\n",
        "pd.set_option('max_columns', 1000)\n",
        "pd.set_option('max_colwidth', 400)"
      ],
      "execution_count": null,
      "outputs": []
    },
    {
      "cell_type": "code",
      "metadata": {
        "id": "aYNwHQLMTvZS"
      },
      "source": [
        "from google.colab import files\n",
        "uploaded = files.upload()"
      ],
      "execution_count": null,
      "outputs": []
    },
    {
      "cell_type": "code",
      "metadata": {
        "id": "ko1V8hMeT_H6"
      },
      "source": [
        "with open('my_template.json') as f:\n",
        "    d = json.load(f)"
      ],
      "execution_count": null,
      "outputs": []
    },
    {
      "cell_type": "code",
      "metadata": {
        "id": "LtbFfjITVDM0"
      },
      "source": [
        "d['resources']"
      ],
      "execution_count": null,
      "outputs": []
    },
    {
      "cell_type": "code",
      "metadata": {
        "id": "g3Ee9GbYtS_x"
      },
      "source": [
        "import re\n",
        "def extract_resource_name(value):\n",
        "  result=re.search(\"\\[concat\\(parameters\\(\\'factoryName\\'\\), \\'(.*)\\'\\)\\]\", value)\n",
        "  return result.group(1)\n",
        "\n",
        "def extract_dependency_name(value):\n",
        "    result=re.findall(\"\\[concat\\(variables\\(\\'factoryId\\'\\), \\'(.*?)\\'\\)\\]\", str(value))\n",
        "    if result:\n",
        "      return result\n",
        "\n",
        "def extract_type_name(value):\n",
        "    result=re.search(\"Microsoft.DataFactory\\/factories(.*)\", str(value))\n",
        "    if result:\n",
        "      return result.group(1)"
      ],
      "execution_count": null,
      "outputs": []
    },
    {
      "cell_type": "code",
      "metadata": {
        "id": "w86CfWVDV2PQ"
      },
      "source": [
        "resources = json_normalize(d['resources'])\n",
        "resource_1=resources[['name', 'type', 'properties.type', 'dependsOn', 'properties.folder.name']].copy()\n",
        "resource_1['name']=resource_1['name'].apply(extract_resource_name)\n",
        "resource_1['type']=resource_1['type'].apply(extract_type_name)\n",
        "resource_1['dependsOn']=resource_1['dependsOn'].apply(extract_dependency_name)\n",
        "resource_1=resource_1.explode('dependsOn')"
      ],
      "execution_count": null,
      "outputs": []
    },
    {
      "cell_type": "code",
      "metadata": {
        "id": "4dy3YUZuKzI0"
      },
      "source": [
        "for name in set(resource_1['name']):\n",
        "  df=resource_1[resource_1.dependsOn.str.contains(name, na=False)][['name', 'type']]\n",
        "  df['consumedBy']=df['type']+df['name']\n",
        "  resource_1.loc[resource_1.name == name, 'consumedBy']=str(list(set(df['consumedBy'])))"
      ],
      "execution_count": null,
      "outputs": []
    },
    {
      "cell_type": "code",
      "metadata": {
        "id": "UyIFrrN9nha0"
      },
      "source": [
        "resource_1"
      ],
      "execution_count": null,
      "outputs": []
    },
    {
      "cell_type": "code",
      "metadata": {
        "id": "MgFPsaBo0eKT"
      },
      "source": [
        "resource_1.to_csv(\"arm_resources.csv\")\n",
        "files.download(\"arm_resources.csv\")\n"
      ],
      "execution_count": null,
      "outputs": []
    },
    {
      "cell_type": "code",
      "metadata": {
        "id": "lEWBn76LI28T"
      },
      "source": [
        "[x for x in resources.columns]"
      ],
      "execution_count": null,
      "outputs": []
    }
  ]
}