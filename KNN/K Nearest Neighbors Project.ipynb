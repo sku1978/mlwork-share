{
  "nbformat": 4,
  "nbformat_minor": 0,
  "metadata": {
    "kernelspec": {
      "display_name": "Python 3",
      "language": "python",
      "name": "python3"
    },
    "language_info": {
      "codemirror_mode": {
        "name": "ipython",
        "version": 3
      },
      "file_extension": ".py",
      "mimetype": "text/x-python",
      "name": "python",
      "nbconvert_exporter": "python",
      "pygments_lexer": "ipython3",
      "version": "3.5.1"
    },
    "colab": {
      "name": "K Nearest Neighbors Project.ipynb",
      "provenance": [],
      "include_colab_link": true
    }
  },
  "cells": [
    {
      "cell_type": "markdown",
      "metadata": {
        "id": "view-in-github",
        "colab_type": "text"
      },
      "source": [
        "<a href=\"https://colab.research.google.com/github/sku1978/sk-share-repo/blob/main/KNN/K%20Nearest%20Neighbors%20Project.ipynb\" target=\"_parent\"><img src=\"https://colab.research.google.com/assets/colab-badge.svg\" alt=\"Open In Colab\"/></a>"
      ]
    },
    {
      "cell_type": "markdown",
      "metadata": {
        "id": "qdFVkhfiWhl0"
      },
      "source": [
        "# K Nearest Neighbors Project \n",
        "\n",
        "Welcome to the KNN Project! This will be a simple project very similar to the lecture, except you'll be given another data set. Go ahead and just follow the directions below.\n",
        "## Import Libraries\n",
        "**Import pandas,seaborn, and the usual libraries.**"
      ]
    },
    {
      "cell_type": "code",
      "metadata": {
        "collapsed": true,
        "id": "_V26dxS-Whl2"
      },
      "source": [
        "import numpy as np\n",
        "import pandas as pd\n",
        "import matplotlib.pyplot as plt\n",
        "import seaborn as sns\n",
        "from sklearn.model_selection import train_test_split\n",
        "from sklearn.preprocessing import StandardScaler\n",
        "from sklearn.metrics import classification_report, confusion_matrix\n",
        "from sklearn.neighbors import KNeighborsClassifier \n",
        "\n",
        "%matplotlib inline"
      ],
      "execution_count": null,
      "outputs": []
    },
    {
      "cell_type": "markdown",
      "metadata": {
        "id": "XPioN7UkWhl4"
      },
      "source": [
        "## Get the Data\n",
        "** Read the 'KNN_Project_Data csv file into a dataframe **"
      ]
    },
    {
      "cell_type": "code",
      "metadata": {
        "collapsed": true,
        "id": "KsYo_1rVWhl6"
      },
      "source": [
        "df=pd.read_csv('https://raw.githubusercontent.com/sku1978/sk-share-repo/main/KNN/KNN_Project_Data')"
      ],
      "execution_count": null,
      "outputs": []
    },
    {
      "cell_type": "markdown",
      "metadata": {
        "id": "B6sC4_OLWhl8"
      },
      "source": [
        "**Check the head of the dataframe.**"
      ]
    },
    {
      "cell_type": "code",
      "metadata": {
        "id": "el_8OJYzWhl8"
      },
      "source": [
        "df.head()"
      ],
      "execution_count": null,
      "outputs": []
    },
    {
      "cell_type": "markdown",
      "metadata": {
        "id": "1yU_QWVcWhl_"
      },
      "source": [
        "# EDA\n",
        "\n",
        "Since this data is artificial, we'll just do a large pairplot with seaborn.\n",
        "\n",
        "**Use seaborn on the dataframe to create a pairplot with the hue indicated by the TARGET CLASS column.**"
      ]
    },
    {
      "cell_type": "code",
      "metadata": {
        "id": "hH_lMPGnWhmD"
      },
      "source": [
        "sns.pairplot(data=df, hue='TARGET CLASS')"
      ],
      "execution_count": null,
      "outputs": []
    },
    {
      "cell_type": "markdown",
      "metadata": {
        "id": "9F1YNLTyWhmG"
      },
      "source": [
        "# Standardize the Variables\n",
        "\n",
        "Time to standardize the variables.\n",
        "\n",
        "** Import StandardScaler from Scikit learn.**"
      ]
    },
    {
      "cell_type": "markdown",
      "metadata": {
        "id": "9sLrhf3MWhmK"
      },
      "source": [
        "** Create a StandardScaler() object called scaler.**"
      ]
    },
    {
      "cell_type": "code",
      "metadata": {
        "collapsed": true,
        "id": "x79sikl-WhmN"
      },
      "source": [
        "std=StandardScaler()"
      ],
      "execution_count": null,
      "outputs": []
    },
    {
      "cell_type": "markdown",
      "metadata": {
        "id": "TLIYYdOOWhmQ"
      },
      "source": [
        "** Fit scaler to the features.**"
      ]
    },
    {
      "cell_type": "code",
      "metadata": {
        "id": "x30qaN4NWhmR"
      },
      "source": [
        "std.fit(df.drop('TARGET CLASS', axis=1))"
      ],
      "execution_count": null,
      "outputs": []
    },
    {
      "cell_type": "markdown",
      "metadata": {
        "id": "2SkN9XQrWhmS"
      },
      "source": [
        "**Use the .transform() method to transform the features to a scaled version.**"
      ]
    },
    {
      "cell_type": "code",
      "metadata": {
        "collapsed": true,
        "id": "QNgktjnhWhmT"
      },
      "source": [
        "std=std.transform(df.drop('TARGET CLASS', axis=1))"
      ],
      "execution_count": null,
      "outputs": []
    },
    {
      "cell_type": "markdown",
      "metadata": {
        "id": "2dsmMdYuWhmU"
      },
      "source": [
        "**Convert the scaled features to a dataframe and check the head of this dataframe to make sure the scaling worked.**"
      ]
    },
    {
      "cell_type": "code",
      "metadata": {
        "id": "JgTDsG8PWhmV"
      },
      "source": [
        "df_std=pd.DataFrame(data=std, columns=df.columns[:-1])\n",
        "df_std.head()"
      ],
      "execution_count": null,
      "outputs": []
    },
    {
      "cell_type": "markdown",
      "metadata": {
        "id": "cyxG6eWHWhmV"
      },
      "source": [
        "# Train Test Split\n",
        "\n",
        "**Use train_test_split to split your data into a training set and a testing set.**"
      ]
    },
    {
      "cell_type": "code",
      "metadata": {
        "collapsed": true,
        "id": "wXkavMbeWhmW"
      },
      "source": [
        "X=df_std\n",
        "y=df['TARGET CLASS']\n",
        "X_train, X_test, y_train, y_test = train_test_split(X, y, test_size=0.3, random_state=101)"
      ],
      "execution_count": null,
      "outputs": []
    },
    {
      "cell_type": "markdown",
      "metadata": {
        "id": "K0Ej6iyVWhmX"
      },
      "source": [
        "# Using KNN\n",
        "\n",
        "**Import KNeighborsClassifier from scikit learn.**"
      ]
    },
    {
      "cell_type": "markdown",
      "metadata": {
        "id": "7mJII2fMWhmY"
      },
      "source": [
        "**Create a KNN model instance with n_neighbors=1**"
      ]
    },
    {
      "cell_type": "code",
      "metadata": {
        "collapsed": true,
        "id": "P4VeRnRFWhmY"
      },
      "source": [
        "knn=KNeighborsClassifier(n_neighbors=1)"
      ],
      "execution_count": null,
      "outputs": []
    },
    {
      "cell_type": "markdown",
      "metadata": {
        "id": "mhMY-7SdWhmZ"
      },
      "source": [
        "**Fit this KNN model to the training data.**"
      ]
    },
    {
      "cell_type": "code",
      "metadata": {
        "id": "LhHs4dUmWhmZ"
      },
      "source": [
        "knn.fit(X_train, y_train)"
      ],
      "execution_count": null,
      "outputs": []
    },
    {
      "cell_type": "markdown",
      "metadata": {
        "id": "phLVWBehWhma"
      },
      "source": [
        "# Predictions and Evaluations\n",
        "Let's evaluate our KNN model!"
      ]
    },
    {
      "cell_type": "markdown",
      "metadata": {
        "id": "nKRWFLugWhma"
      },
      "source": [
        "**Use the predict method to predict values using your KNN model and X_test.**"
      ]
    },
    {
      "cell_type": "code",
      "metadata": {
        "id": "o3qo5j0tWhmc"
      },
      "source": [
        "predictions=knn.predict(X_test)"
      ],
      "execution_count": null,
      "outputs": []
    },
    {
      "cell_type": "markdown",
      "metadata": {
        "id": "A-ERMx31Whmd"
      },
      "source": [
        "** Create a confusion matrix and classification report.**"
      ]
    },
    {
      "cell_type": "code",
      "metadata": {
        "collapsed": true,
        "id": "Am5dSw2FWhme"
      },
      "source": [
        "pd.DataFrame(classification_report(y_test, predictions, output_dict=True)).transpose()"
      ],
      "execution_count": null,
      "outputs": []
    },
    {
      "cell_type": "code",
      "metadata": {
        "id": "pLcRTpcTWhmf"
      },
      "source": [
        "pd.DataFrame(confusion_matrix(y_test, predictions), columns=['Predicted Negative', 'Predicted Positive'], index=['True Negative', 'True Positive'])"
      ],
      "execution_count": null,
      "outputs": []
    },
    {
      "cell_type": "code",
      "metadata": {
        "id": "KKFbJn4jWhmh"
      },
      "source": [
        "knn.score(X_test, y_test)"
      ],
      "execution_count": null,
      "outputs": []
    },
    {
      "cell_type": "code",
      "metadata": {
        "id": "wUz1JpDwyMYt"
      },
      "source": [
        "np.mean(predictions!=y_test)"
      ],
      "execution_count": null,
      "outputs": []
    },
    {
      "cell_type": "markdown",
      "metadata": {
        "id": "50R5YOWKWhmi"
      },
      "source": [
        "# Choosing a K Value\n",
        "Let's go ahead and use the elbow method to pick a good K Value!\n",
        "\n",
        "** Create a for loop that trains various KNN models with different k values, then keep track of the error_rate for each of these models with a list. Refer to the lecture if you are confused on this step.**"
      ]
    },
    {
      "cell_type": "code",
      "metadata": {
        "id": "WHXFp_sYWhmi"
      },
      "source": [
        "error_rate=[]\n",
        "for i in range(1,40):\n",
        "  knn=KNeighborsClassifier(n_neighbors=i)\n",
        "  knn.fit(X_train, y_train)\n",
        "  predictions=knn.predict(X_test)\n",
        "  error_rate.append(np.mean(predictions!=y_test))\n",
        "\n",
        "plt.figure(figsize=(10,8))\n",
        "plt.plot(range(1,40), error_rate, color='blue', linestyle='dashed', marker='o', markerfacecolor='red', markersize=10)"
      ],
      "execution_count": null,
      "outputs": []
    },
    {
      "cell_type": "markdown",
      "metadata": {
        "id": "Ef63unhPWhmk"
      },
      "source": [
        "## Retrain with new K Value\n",
        "\n",
        "**Retrain your model with the best K value (up to you to decide what you want) and re-do the classification report and the confusion matrix.**"
      ]
    },
    {
      "cell_type": "code",
      "metadata": {
        "id": "T-SA6emTWhml"
      },
      "source": [
        "  knn=KNeighborsClassifier(n_neighbors=32, weights='distance')\n",
        "  knn.fit(X_train, y_train)\n",
        "  predictions=knn.predict(X_test)"
      ],
      "execution_count": null,
      "outputs": []
    },
    {
      "cell_type": "code",
      "metadata": {
        "id": "9EQLJniK0N5h"
      },
      "source": [
        "pd.DataFrame(classification_report(y_test, predictions, output_dict=True)).transpose()"
      ],
      "execution_count": null,
      "outputs": []
    },
    {
      "cell_type": "code",
      "metadata": {
        "id": "5GNVSpXw0VC1"
      },
      "source": [
        "pd.DataFrame(confusion_matrix(y_test, predictions), columns=['Predicted Negative', 'Predicted Positive'], index=['True Negative', 'True Positive'])"
      ],
      "execution_count": null,
      "outputs": []
    }
  ]
}