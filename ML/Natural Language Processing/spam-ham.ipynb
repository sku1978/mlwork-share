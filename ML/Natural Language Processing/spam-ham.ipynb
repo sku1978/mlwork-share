{
  "nbformat": 4,
  "nbformat_minor": 0,
  "metadata": {
    "colab": {
      "name": "Untitled8.ipynb",
      "provenance": [],
      "authorship_tag": "ABX9TyMtssHusOnmermIsQ1kW/4i",
      "include_colab_link": true
    },
    "kernelspec": {
      "name": "python3",
      "display_name": "Python 3"
    },
    "language_info": {
      "name": "python"
    }
  },
  "cells": [
    {
      "cell_type": "markdown",
      "metadata": {
        "id": "view-in-github",
        "colab_type": "text"
      },
      "source": [
        "<a href=\"https://colab.research.google.com/github/sku1978/sk-share-repo/blob/main/ML/Natural%20Language%20Processing/spam-ham.ipynb\" target=\"_parent\"><img src=\"https://colab.research.google.com/assets/colab-badge.svg\" alt=\"Open In Colab\"/></a>"
      ]
    },
    {
      "cell_type": "code",
      "metadata": {
        "id": "wCcxW-OL3wsB"
      },
      "source": [
        "import nltk\n",
        "import pandas as pd\n",
        "import numpy as np\n",
        "import urllib"
      ],
      "execution_count": 1,
      "outputs": []
    },
    {
      "cell_type": "code",
      "metadata": {
        "id": "yqYn8u5r31jU",
        "colab": {
          "base_uri": "https://localhost:8080/"
        },
        "outputId": "942f9e8c-fe3d-41cc-e551-64a2d24eb216"
      },
      "source": [
        "nltk.download('stopwords')\n",
        "nltk.download('punkt')"
      ],
      "execution_count": 2,
      "outputs": [
        {
          "output_type": "stream",
          "text": [
            "[nltk_data] Downloading package stopwords to /root/nltk_data...\n",
            "[nltk_data]   Unzipping corpora/stopwords.zip.\n",
            "[nltk_data] Downloading package punkt to /root/nltk_data...\n",
            "[nltk_data]   Unzipping tokenizers/punkt.zip.\n"
          ],
          "name": "stdout"
        },
        {
          "output_type": "execute_result",
          "data": {
            "text/plain": [
              "True"
            ]
          },
          "metadata": {
            "tags": []
          },
          "execution_count": 2
        }
      ]
    },
    {
      "cell_type": "code",
      "metadata": {
        "id": "_76RMSTt4KiL"
      },
      "source": [
        "#!cat /root/nltk_data/corpora/stopwords/english"
      ],
      "execution_count": null,
      "outputs": []
    },
    {
      "cell_type": "markdown",
      "metadata": {
        "id": "PcYLCFnJEAWp"
      },
      "source": [
        "##Read File"
      ]
    },
    {
      "cell_type": "code",
      "metadata": {
        "id": "OH1F56Xj9sol"
      },
      "source": [
        "messages=[line.decode(\"latin-1\").rstrip(',\\r\\n') for line in urllib.request.urlopen('https://raw.githubusercontent.com/sku1978/sk-share-repo/main/ML/Natural%20Language%20Processing/spamham.csv')]"
      ],
      "execution_count": 5,
      "outputs": []
    },
    {
      "cell_type": "code",
      "metadata": {
        "id": "DEIDdQygBLOc",
        "colab": {
          "base_uri": "https://localhost:8080/"
        },
        "outputId": "472e0f56-bce2-462b-b208-017f8508ad67"
      },
      "source": [
        "print(len(messages))\n",
        "for mess_no, message in enumerate(messages[:15]):\n",
        "  print(mess_no, message, '\\n')"
      ],
      "execution_count": 6,
      "outputs": [
        {
          "output_type": "stream",
          "text": [
            "5573\n",
            "0 v1,v2 \n",
            "\n",
            "1 ham,\"Go until jurong point, crazy.. Available only in bugis n great world la e buffet... Cine there got amore wat...\" \n",
            "\n",
            "2 ham,Ok lar... Joking wif u oni... \n",
            "\n",
            "3 spam,Free entry in 2 a wkly comp to win FA Cup final tkts 21st May 2005. Text FA to 87121 to receive entry question(std txt rate)T&C's apply 08452810075over18's \n",
            "\n",
            "4 ham,U dun say so early hor... U c already then say... \n",
            "\n",
            "5 ham,\"Nah I don't think he goes to usf, he lives around here though\" \n",
            "\n",
            "6 spam,\"FreeMsg Hey there darling it's been 3 week's now and no word back! I'd like some fun you up for it still? Tb ok! XxX std chgs to send, å£1.50 to rcv\" \n",
            "\n",
            "7 ham,Even my brother is not like to speak with me. They treat me like aids patent. \n",
            "\n",
            "8 ham,As per your request 'Melle Melle (Oru Minnaminunginte Nurungu Vettam)' has been set as your callertune for all Callers. Press *9 to copy your friends Callertune \n",
            "\n",
            "9 spam,WINNER!! As a valued network customer you have been selected to receivea å£900 prize reward! To claim call 09061701461. Claim code KL341. Valid 12 hours only. \n",
            "\n",
            "10 spam,Had your mobile 11 months or more? U R entitled to Update to the latest colour mobiles with camera for Free! Call The Mobile Update Co FREE on 08002986030 \n",
            "\n",
            "11 ham,\"I'm gonna be home soon and i don't want to talk about this stuff anymore tonight, k? I've cried enough today.\" \n",
            "\n",
            "12 spam,\"SIX chances to win CASH! From 100 to 20,000 pounds txt> CSH11 and send to 87575. Cost 150p/day, 6days, 16+ TsandCs apply Reply HL 4 info\" \n",
            "\n",
            "13 spam,\"URGENT! You have won a 1 week FREE membership in our å£100,000 Prize Jackpot! Txt the word: CLAIM to No: 81010 T&C www.dbuk.net LCCLTD POBOX 4403LDNW1A7RW18\" \n",
            "\n",
            "14 ham,I've been searching for the right words to thank you for this breather. I promise i wont take your help for granted and will fulfil my promise. You have been wonderful and a blessing at all times. \n",
            "\n"
          ],
          "name": "stdout"
        }
      ]
    },
    {
      "cell_type": "markdown",
      "metadata": {
        "id": "eUZByfcdEL2G"
      },
      "source": [
        "##Read File using Pandas"
      ]
    },
    {
      "cell_type": "code",
      "metadata": {
        "id": "ju50aPRNERFL"
      },
      "source": [
        "messages=pd.read_csv('https://raw.githubusercontent.com/sku1978/sk-share-repo/main/ML/Natural%20Language%20Processing/spamham.csv', sep=',', encoding='latin-1')\n",
        "messages = messages.loc[:, ~messages.columns.str.contains('^Unnamed')]\n",
        "messages.columns=['label', 'message']"
      ],
      "execution_count": 7,
      "outputs": []
    },
    {
      "cell_type": "markdown",
      "metadata": {
        "id": "ZLljKYxVHkip"
      },
      "source": [
        "##Process"
      ]
    },
    {
      "cell_type": "code",
      "metadata": {
        "colab": {
          "base_uri": "https://localhost:8080/",
          "height": 173
        },
        "id": "ChqPgTzqFrYG",
        "outputId": "30c230e5-0866-4e59-f4a0-8673fbdfaae4"
      },
      "source": [
        "messages.groupby('label').describe()"
      ],
      "execution_count": 8,
      "outputs": [
        {
          "output_type": "execute_result",
          "data": {
            "text/html": [
              "<div>\n",
              "<style scoped>\n",
              "    .dataframe tbody tr th:only-of-type {\n",
              "        vertical-align: middle;\n",
              "    }\n",
              "\n",
              "    .dataframe tbody tr th {\n",
              "        vertical-align: top;\n",
              "    }\n",
              "\n",
              "    .dataframe thead tr th {\n",
              "        text-align: left;\n",
              "    }\n",
              "\n",
              "    .dataframe thead tr:last-of-type th {\n",
              "        text-align: right;\n",
              "    }\n",
              "</style>\n",
              "<table border=\"1\" class=\"dataframe\">\n",
              "  <thead>\n",
              "    <tr>\n",
              "      <th></th>\n",
              "      <th colspan=\"4\" halign=\"left\">message</th>\n",
              "    </tr>\n",
              "    <tr>\n",
              "      <th></th>\n",
              "      <th>count</th>\n",
              "      <th>unique</th>\n",
              "      <th>top</th>\n",
              "      <th>freq</th>\n",
              "    </tr>\n",
              "    <tr>\n",
              "      <th>label</th>\n",
              "      <th></th>\n",
              "      <th></th>\n",
              "      <th></th>\n",
              "      <th></th>\n",
              "    </tr>\n",
              "  </thead>\n",
              "  <tbody>\n",
              "    <tr>\n",
              "      <th>ham</th>\n",
              "      <td>4825</td>\n",
              "      <td>4516</td>\n",
              "      <td>Sorry, I'll call later</td>\n",
              "      <td>30</td>\n",
              "    </tr>\n",
              "    <tr>\n",
              "      <th>spam</th>\n",
              "      <td>747</td>\n",
              "      <td>653</td>\n",
              "      <td>Please call our customer service representativ...</td>\n",
              "      <td>4</td>\n",
              "    </tr>\n",
              "  </tbody>\n",
              "</table>\n",
              "</div>"
            ],
            "text/plain": [
              "      message                                                               \n",
              "        count unique                                                top freq\n",
              "label                                                                       \n",
              "ham      4825   4516                             Sorry, I'll call later   30\n",
              "spam      747    653  Please call our customer service representativ...    4"
            ]
          },
          "metadata": {
            "tags": []
          },
          "execution_count": 8
        }
      ]
    },
    {
      "cell_type": "code",
      "metadata": {
        "id": "6ro4lLqxkYhE"
      },
      "source": [
        "messages['message_len']=messages['message'].apply(lambda x: len(x))"
      ],
      "execution_count": 9,
      "outputs": []
    },
    {
      "cell_type": "code",
      "metadata": {
        "colab": {
          "base_uri": "https://localhost:8080/",
          "height": 282
        },
        "id": "8As5QdU7lSxJ",
        "outputId": "a0c85469-33fa-4f65-e546-c8c7599842fa"
      },
      "source": [
        "import matplotlib.pyplot as plt\n",
        "import seaborn as sns\n",
        "\n",
        "%matplotlib inline\n",
        "messages.plot.hist('message_len', bins=100)"
      ],
      "execution_count": 10,
      "outputs": [
        {
          "output_type": "execute_result",
          "data": {
            "text/plain": [
              "<matplotlib.axes._subplots.AxesSubplot at 0x7f80af819f50>"
            ]
          },
          "metadata": {
            "tags": []
          },
          "execution_count": 10
        },
        {
          "output_type": "display_data",
          "data": {
            "image/png": "[encoded data removed]",
            "text/plain": [
              "<Figure size 432x288 with 1 Axes>"
            ]
          },
          "metadata": {
            "tags": [],
            "needs_background": "light"
          }
        }
      ]
    },
    {
      "cell_type": "code",
      "metadata": {
        "colab": {
          "base_uri": "https://localhost:8080/",
          "height": 297
        },
        "id": "5T7Ze1F1oZtM",
        "outputId": "21b3ff4e-25e0-4b0d-a72c-3d285c3f0dd2"
      },
      "source": [
        "messages.describe()"
      ],
      "execution_count": 11,
      "outputs": [
        {
          "output_type": "execute_result",
          "data": {
            "text/html": [
              "<div>\n",
              "<style scoped>\n",
              "    .dataframe tbody tr th:only-of-type {\n",
              "        vertical-align: middle;\n",
              "    }\n",
              "\n",
              "    .dataframe tbody tr th {\n",
              "        vertical-align: top;\n",
              "    }\n",
              "\n",
              "    .dataframe thead th {\n",
              "        text-align: right;\n",
              "    }\n",
              "</style>\n",
              "<table border=\"1\" class=\"dataframe\">\n",
              "  <thead>\n",
              "    <tr style=\"text-align: right;\">\n",
              "      <th></th>\n",
              "      <th>message_len</th>\n",
              "    </tr>\n",
              "  </thead>\n",
              "  <tbody>\n",
              "    <tr>\n",
              "      <th>count</th>\n",
              "      <td>5572.000000</td>\n",
              "    </tr>\n",
              "    <tr>\n",
              "      <th>mean</th>\n",
              "      <td>80.118808</td>\n",
              "    </tr>\n",
              "    <tr>\n",
              "      <th>std</th>\n",
              "      <td>59.690841</td>\n",
              "    </tr>\n",
              "    <tr>\n",
              "      <th>min</th>\n",
              "      <td>2.000000</td>\n",
              "    </tr>\n",
              "    <tr>\n",
              "      <th>25%</th>\n",
              "      <td>36.000000</td>\n",
              "    </tr>\n",
              "    <tr>\n",
              "      <th>50%</th>\n",
              "      <td>61.000000</td>\n",
              "    </tr>\n",
              "    <tr>\n",
              "      <th>75%</th>\n",
              "      <td>121.000000</td>\n",
              "    </tr>\n",
              "    <tr>\n",
              "      <th>max</th>\n",
              "      <td>910.000000</td>\n",
              "    </tr>\n",
              "  </tbody>\n",
              "</table>\n",
              "</div>"
            ],
            "text/plain": [
              "       message_len\n",
              "count  5572.000000\n",
              "mean     80.118808\n",
              "std      59.690841\n",
              "min       2.000000\n",
              "25%      36.000000\n",
              "50%      61.000000\n",
              "75%     121.000000\n",
              "max     910.000000"
            ]
          },
          "metadata": {
            "tags": []
          },
          "execution_count": 11
        }
      ]
    },
    {
      "cell_type": "code",
      "metadata": {
        "colab": {
          "base_uri": "https://localhost:8080/",
          "height": 86
        },
        "id": "HNuzMRukogK5",
        "outputId": "b5b6bb3a-fd2b-42a3-a69b-05825c4a6b03"
      },
      "source": [
        "messages[messages['message_len']>700]['message'].iloc[0]"
      ],
      "execution_count": 12,
      "outputs": [
        {
          "output_type": "execute_result",
          "data": {
            "application/vnd.google.colaboratory.intrinsic+json": {
              "type": "string"
            },
            "text/plain": [
              "\"For me the love should start with attraction.i should feel that I need her every time around me.she should be the first thing which comes in my thoughts.I would start the day and end it with her.she should be there every time I dream.love will be then when my every breath has her name.my life should happen around her.my life will be named to her.I would cry for her.will give all my happiness and take all her sorrows.I will be ready to fight with anyone for her.I will be in love when I will be doing the craziest things for her.love will be when I don't have to proove anyone that my girl is the most beautiful lady on the whole planet.I will always be singing praises for her.love will be when I start up making chicken curry and end up makiing sambar.life will be the most beautiful then.will get every morning and thank god for the day because she is with me.I would like to say a lot..will tell later..\""
            ]
          },
          "metadata": {
            "tags": []
          },
          "execution_count": 12
        }
      ]
    },
    {
      "cell_type": "code",
      "metadata": {
        "colab": {
          "base_uri": "https://localhost:8080/",
          "height": 406
        },
        "id": "AnlN73y9pon3",
        "outputId": "fbe1e2fa-9182-4068-f272-103243ae4d84"
      },
      "source": [
        "fig, ax = plt.subplots(figsize=(8,6))\n",
        "sns.histplot(messages, x='message_len', hue='label', ax=ax )\n",
        "\n",
        "#messages.hist(column='message_len', by='label', bins=100, figsize=(12,6))"
      ],
      "execution_count": 13,
      "outputs": [
        {
          "output_type": "execute_result",
          "data": {
            "text/plain": [
              "<matplotlib.axes._subplots.AxesSubplot at 0x7f80a31a3690>"
            ]
          },
          "metadata": {
            "tags": []
          },
          "execution_count": 13
        },
        {
          "output_type": "display_data",
          "data": {
            "image/png": "[encoded data removed]",
            "text/plain": [
              "<Figure size 576x432 with 1 Axes>"
            ]
          },
          "metadata": {
            "tags": [],
            "needs_background": "light"
          }
        }
      ]
    },
    {
      "cell_type": "markdown",
      "metadata": {
        "id": "wn0Zs1AQUedV"
      },
      "source": [
        "##Preprocess Data"
      ]
    },
    {
      "cell_type": "code",
      "metadata": {
        "colab": {
          "base_uri": "https://localhost:8080/"
        },
        "id": "Zx7F3SSJG8KE",
        "outputId": "e4d80d52-f5ec-43a1-82c0-6dea39def013"
      },
      "source": [
        "import re\n",
        "import string\n",
        "from nltk.corpus import stopwords\n",
        "from nltk.tokenize import sent_tokenize, word_tokenize\n",
        "# from nltk.stem import PorterStemmer\n",
        "# import spacy\n",
        "\n",
        "#Tokenise, Remove stopwords and remove punctuations (isalnum)\n",
        "def clean_string(x):\n",
        "  stopwords_list=set(stopwords.words('english'))\n",
        "  word_tokens=[w for w in word_tokenize(x) if w not in stopwords_list and w.isalnum()]\n",
        "  return word_tokens\n",
        "\n",
        "\n",
        "messages['message'].apply(clean_string)"
      ],
      "execution_count": 14,
      "outputs": [
        {
          "output_type": "execute_result",
          "data": {
            "text/plain": [
              "0       [Go, jurong, point, Available, bugis, n, great...\n",
              "1                          [Ok, lar, Joking, wif, u, oni]\n",
              "2       [Free, entry, 2, wkly, comp, win, FA, Cup, fin...\n",
              "3           [U, dun, say, early, hor, U, c, already, say]\n",
              "4       [Nah, I, think, goes, usf, lives, around, though]\n",
              "                              ...                        \n",
              "5567    [This, 2nd, time, tried, 2, contact, U, Pound,...\n",
              "5568                [Will, b, going, esplanade, fr, home]\n",
              "5569                        [Pity, mood, So, suggestions]\n",
              "5570    [The, guy, bitching, I, acted, like, intereste...\n",
              "5571                              [Rofl, Its, true, name]\n",
              "Name: message, Length: 5572, dtype: object"
            ]
          },
          "metadata": {
            "tags": []
          },
          "execution_count": 14
        }
      ]
    },
    {
      "cell_type": "code",
      "metadata": {
        "id": "ZvRETtFcZ2aL"
      },
      "source": [
        "from sklearn.feature_extraction.text import CountVectorizer\n",
        "\n",
        "bow_transformer=CountVectorizer(analyzer=clean_string).fit(messages['message'])"
      ],
      "execution_count": 15,
      "outputs": []
    },
    {
      "cell_type": "code",
      "metadata": {
        "id": "iPIKPcqsmFW0",
        "colab": {
          "base_uri": "https://localhost:8080/"
        },
        "outputId": "7259ef18-878a-4a9f-b3f6-e49284815dcc"
      },
      "source": [
        "bow_transformer.get_params()"
      ],
      "execution_count": 16,
      "outputs": [
        {
          "output_type": "execute_result",
          "data": {
            "text/plain": [
              "{'analyzer': <function __main__.clean_string>,\n",
              " 'binary': False,\n",
              " 'decode_error': 'strict',\n",
              " 'dtype': numpy.int64,\n",
              " 'encoding': 'utf-8',\n",
              " 'input': 'content',\n",
              " 'lowercase': True,\n",
              " 'max_df': 1.0,\n",
              " 'max_features': None,\n",
              " 'min_df': 1,\n",
              " 'ngram_range': (1, 1),\n",
              " 'preprocessor': None,\n",
              " 'stop_words': None,\n",
              " 'strip_accents': None,\n",
              " 'token_pattern': '(?u)\\\\b\\\\w\\\\w+\\\\b',\n",
              " 'tokenizer': None,\n",
              " 'vocabulary': None}"
            ]
          },
          "metadata": {
            "tags": []
          },
          "execution_count": 16
        }
      ]
    },
    {
      "cell_type": "markdown",
      "metadata": {
        "id": "t0RrUeSwnBCd"
      },
      "source": [
        "###Test with a sample"
      ]
    },
    {
      "cell_type": "code",
      "metadata": {
        "id": "j8Vcxfu0eFEz",
        "colab": {
          "base_uri": "https://localhost:8080/",
          "height": 35
        },
        "outputId": "248b3f26-caa0-41b9-8245-ee077f29106d"
      },
      "source": [
        "mess4=messages['message'][3]\n",
        "mess4"
      ],
      "execution_count": 17,
      "outputs": [
        {
          "output_type": "execute_result",
          "data": {
            "application/vnd.google.colaboratory.intrinsic+json": {
              "type": "string"
            },
            "text/plain": [
              "'U dun say so early hor... U c already then say...'"
            ]
          },
          "metadata": {
            "tags": []
          },
          "execution_count": 17
        }
      ]
    },
    {
      "cell_type": "code",
      "metadata": {
        "id": "0RldNMVCegL2",
        "colab": {
          "base_uri": "https://localhost:8080/"
        },
        "outputId": "dee20ec1-4952-4cd3-8fe2-0a2f7e6cbece"
      },
      "source": [
        "bow4=bow_transformer.transform([mess4])\n",
        "print(bow4)"
      ],
      "execution_count": 18,
      "outputs": [
        {
          "output_type": "stream",
          "text": [
            "  (0, 3617)\t2\n",
            "  (0, 4134)\t1\n",
            "  (0, 4716)\t1\n",
            "  (0, 5532)\t1\n",
            "  (0, 5549)\t1\n",
            "  (0, 6406)\t1\n",
            "  (0, 8465)\t2\n"
          ],
          "name": "stdout"
        }
      ]
    },
    {
      "cell_type": "code",
      "metadata": {
        "id": "e0LYOivqfjKg",
        "colab": {
          "base_uri": "https://localhost:8080/"
        },
        "outputId": "5668a870-0977-45c0-9a0a-f303bfb96361"
      },
      "source": [
        "print(bow_transformer.get_feature_names()[3617])\n",
        "print(bow_transformer.get_feature_names()[4134])\n",
        "print(bow_transformer.get_feature_names()[4716])\n",
        "print(bow_transformer.get_feature_names()[5532])\n",
        "print(bow_transformer.get_feature_names()[5549])\n",
        "print(bow_transformer.get_feature_names()[6406])\n",
        "print(bow_transformer.get_feature_names()[8465])"
      ],
      "execution_count": 20,
      "outputs": [
        {
          "output_type": "stream",
          "text": [
            "U\n",
            "already\n",
            "c\n",
            "dun\n",
            "early\n",
            "hor\n",
            "say\n"
          ],
          "name": "stdout"
        }
      ]
    },
    {
      "cell_type": "markdown",
      "metadata": {
        "id": "1wW9zetPosqs"
      },
      "source": [
        "#Transform Data"
      ]
    },
    {
      "cell_type": "code",
      "metadata": {
        "id": "_ql6D-kVfDHr",
        "colab": {
          "base_uri": "https://localhost:8080/"
        },
        "outputId": "77369776-beb1-4d61-d690-4f0aab489a2d"
      },
      "source": [
        "messages_bow=bow_transformer.transform(messages['message'])\n",
        "type(messages_bow)"
      ],
      "execution_count": 23,
      "outputs": [
        {
          "output_type": "execute_result",
          "data": {
            "text/plain": [
              "scipy.sparse.csr.csr_matrix"
            ]
          },
          "metadata": {
            "tags": []
          },
          "execution_count": 23
        }
      ]
    },
    {
      "cell_type": "code",
      "metadata": {
        "id": "TzsfrZYmfq14",
        "colab": {
          "base_uri": "https://localhost:8080/"
        },
        "outputId": "938d3f56-f2d0-49f7-f066-b3b89ee2ccde"
      },
      "source": [
        "print(messages_bow.toarray())"
      ],
      "execution_count": null,
      "outputs": [
        {
          "output_type": "stream",
          "text": [
            "[[0 0 0 ... 0 0 0]\n",
            " [0 0 0 ... 0 0 0]\n",
            " [0 0 0 ... 0 0 0]\n",
            " ...\n",
            " [0 0 0 ... 0 0 0]\n",
            " [0 0 0 ... 0 0 0]\n",
            " [0 0 0 ... 0 0 0]]\n"
          ],
          "name": "stdout"
        }
      ]
    },
    {
      "cell_type": "code",
      "metadata": {
        "id": "fWK7DVG0gAE1",
        "colab": {
          "base_uri": "https://localhost:8080/"
        },
        "outputId": "e67ae72c-625a-4df5-d963-adf4e26389c9"
      },
      "source": [
        "print(messages_bow.shape)"
      ],
      "execution_count": null,
      "outputs": [
        {
          "output_type": "stream",
          "text": [
            "(5572, 9990)\n"
          ],
          "name": "stdout"
        }
      ]
    },
    {
      "cell_type": "code",
      "metadata": {
        "id": "XSMR_KIogaSl",
        "colab": {
          "base_uri": "https://localhost:8080/"
        },
        "outputId": "c971af4a-8f72-4133-b2e5-26fe47e3bcbb"
      },
      "source": [
        "#Non Zero occurences\n",
        "messages_bow.nnz"
      ],
      "execution_count": 24,
      "outputs": [
        {
          "output_type": "execute_result",
          "data": {
            "text/plain": [
              "52896"
            ]
          },
          "metadata": {
            "tags": []
          },
          "execution_count": 24
        }
      ]
    },
    {
      "cell_type": "code",
      "metadata": {
        "id": "hm0zjoR_rFJ1",
        "colab": {
          "base_uri": "https://localhost:8080/"
        },
        "outputId": "ecc6cf74-2686-48e0-98c5-b567486ce9e7"
      },
      "source": [
        "sparsity = (100.0 * messages_bow.nnz / (messages_bow.shape[0] * messages_bow.shape[1]))\n",
        "print('sparsity: {}'.format(sparsity))"
      ],
      "execution_count": null,
      "outputs": [
        {
          "output_type": "stream",
          "text": [
            "sparsity: 0.0950268286951704\n"
          ],
          "name": "stdout"
        }
      ]
    },
    {
      "cell_type": "code",
      "metadata": {
        "id": "uVzdu8p4wv0W"
      },
      "source": [
        "#Term Frequency Inverse Document Frequency\n",
        "from sklearn.feature_extraction.text import TfidfTransformer\n",
        "tfidf_transformer=TfidfTransformer().fit(messages_bow)"
      ],
      "execution_count": 25,
      "outputs": []
    },
    {
      "cell_type": "code",
      "metadata": {
        "id": "lh4dcZRYaRe1",
        "colab": {
          "base_uri": "https://localhost:8080/"
        },
        "outputId": "87d43da7-7cb7-4fe6-fcf9-077cd584af49"
      },
      "source": [
        "tfidf_transformer.get_params()"
      ],
      "execution_count": 26,
      "outputs": [
        {
          "output_type": "execute_result",
          "data": {
            "text/plain": [
              "{'norm': 'l2', 'smooth_idf': True, 'sublinear_tf': False, 'use_idf': True}"
            ]
          },
          "metadata": {
            "tags": []
          },
          "execution_count": 26
        }
      ]
    },
    {
      "cell_type": "code",
      "metadata": {
        "id": "zlE_UrfGapcS",
        "colab": {
          "base_uri": "https://localhost:8080/"
        },
        "outputId": "d4fe0cdc-1aef-4142-e0de-471ba5ee5838"
      },
      "source": [
        "tfidf4=tfidf_transformer.transform(bow4)\n",
        "\n",
        "print(tfidf4)"
      ],
      "execution_count": 29,
      "outputs": [
        {
          "output_type": "stream",
          "text": [
            "  (0, 8465)\t0.5391405744791059\n",
            "  (0, 6406)\t0.4383666212845426\n",
            "  (0, 5549)\t0.3217363624965853\n",
            "  (0, 5532)\t0.29914905743613074\n",
            "  (0, 4716)\t0.2947711981870732\n",
            "  (0, 4134)\t0.26585237007652435\n",
            "  (0, 3617)\t0.40815457711571285\n"
          ],
          "name": "stdout"
        }
      ]
    },
    {
      "cell_type": "code",
      "metadata": {
        "id": "Mbf5ODktbggV",
        "colab": {
          "base_uri": "https://localhost:8080/"
        },
        "outputId": "0505e38e-2aba-4dd6-ed4d-a860017b7767"
      },
      "source": [
        "tfidf_transformer.idf_[bow_transformer.vocabulary_['mom']]"
      ],
      "execution_count": 30,
      "outputs": [
        {
          "output_type": "execute_result",
          "data": {
            "text/plain": [
              "6.917638586467326"
            ]
          },
          "metadata": {
            "tags": []
          },
          "execution_count": 30
        }
      ]
    },
    {
      "cell_type": "code",
      "metadata": {
        "id": "m8ur5AHM-wUG"
      },
      "source": [
        "messages_tfidf=tfidf_transformer.transform(messages_bow)"
      ],
      "execution_count": 31,
      "outputs": []
    },
    {
      "cell_type": "markdown",
      "metadata": {
        "id": "7eA0JYEgBZTH"
      },
      "source": [
        "#Train and Predict"
      ]
    },
    {
      "cell_type": "code",
      "metadata": {
        "id": "CwoIgS44_N0f"
      },
      "source": [
        "from sklearn.naive_bayes import MultinomialNB"
      ],
      "execution_count": 32,
      "outputs": []
    },
    {
      "cell_type": "code",
      "metadata": {
        "id": "C0_a4T0__mNm"
      },
      "source": [
        "spam_detect_model = MultinomialNB().fit(messages_tfidf, messages['label'])"
      ],
      "execution_count": 33,
      "outputs": []
    },
    {
      "cell_type": "code",
      "metadata": {
        "id": "2tp3ZDuhAW-t",
        "outputId": "d81b82a8-f58a-4008-f151-7eac8cd56f10",
        "colab": {
          "base_uri": "https://localhost:8080/",
          "height": 35
        }
      },
      "source": [
        "spam_detect_model.predict(tfidf4)[0]"
      ],
      "execution_count": 35,
      "outputs": [
        {
          "output_type": "execute_result",
          "data": {
            "application/vnd.google.colaboratory.intrinsic+json": {
              "type": "string"
            },
            "text/plain": [
              "'ham'"
            ]
          },
          "metadata": {
            "tags": []
          },
          "execution_count": 35
        }
      ]
    },
    {
      "cell_type": "code",
      "metadata": {
        "id": "OtJUuwSzAvvI",
        "outputId": "27198207-ce16-470e-ca54-641e844c8d99",
        "colab": {
          "base_uri": "https://localhost:8080/",
          "height": 35
        }
      },
      "source": [
        "messages['label'][3]"
      ],
      "execution_count": 37,
      "outputs": [
        {
          "output_type": "execute_result",
          "data": {
            "application/vnd.google.colaboratory.intrinsic+json": {
              "type": "string"
            },
            "text/plain": [
              "'ham'"
            ]
          },
          "metadata": {
            "tags": []
          },
          "execution_count": 37
        }
      ]
    },
    {
      "cell_type": "code",
      "metadata": {
        "id": "FEm84WBrA3PU"
      },
      "source": [
        "all_pred=spam_detect_model.predict(messages_tfidf)"
      ],
      "execution_count": 38,
      "outputs": []
    },
    {
      "cell_type": "code",
      "metadata": {
        "id": "s9weadaNA-Q7",
        "outputId": "b5a88a58-d5a1-469b-e18e-d625a2b96d6a",
        "colab": {
          "base_uri": "https://localhost:8080/"
        }
      },
      "source": [
        "all_pred"
      ],
      "execution_count": 40,
      "outputs": [
        {
          "output_type": "execute_result",
          "data": {
            "text/plain": [
              "array(['ham', 'ham', 'spam', ..., 'ham', 'ham', 'ham'], dtype='<U4')"
            ]
          },
          "metadata": {
            "tags": []
          },
          "execution_count": 40
        }
      ]
    },
    {
      "cell_type": "markdown",
      "metadata": {
        "id": "9EHymItMCWM6"
      },
      "source": [
        "#Build Pipeline with Train Test Split"
      ]
    },
    {
      "cell_type": "code",
      "metadata": {
        "id": "VC6gjAyHBFU2"
      },
      "source": [
        "from sklearn.model_selection import train_test_split\n",
        "\n",
        "msg_train, msg_test, label_train, label_test = train_test_split(messages['message'], messages['label'], test_size=0.3)"
      ],
      "execution_count": 43,
      "outputs": []
    },
    {
      "cell_type": "code",
      "metadata": {
        "id": "wakqdnPlCxOb"
      },
      "source": [
        "from sklearn.pipeline import Pipeline\n",
        "\n",
        "pipeline = Pipeline([\n",
        "                     ('bow', CountVectorizer(analyzer=clean_string)),\n",
        "                     ('tfidf', TfidfTransformer()),\n",
        "                     ('classifier', MultinomialNB())\n",
        "])"
      ],
      "execution_count": 45,
      "outputs": []
    },
    {
      "cell_type": "code",
      "metadata": {
        "id": "5kGatpfRD3oO",
        "outputId": "65d8cf51-6c96-4478-e842-3bce21291e0a",
        "colab": {
          "base_uri": "https://localhost:8080/"
        }
      },
      "source": [
        "pipeline.fit(msg_train, label_train)"
      ],
      "execution_count": 46,
      "outputs": [
        {
          "output_type": "execute_result",
          "data": {
            "text/plain": [
              "Pipeline(memory=None,\n",
              "         steps=[('bow',\n",
              "                 CountVectorizer(analyzer=<function clean_string at 0x7f80a2f525f0>,\n",
              "                                 binary=False, decode_error='strict',\n",
              "                                 dtype=<class 'numpy.int64'>, encoding='utf-8',\n",
              "                                 input='content', lowercase=True, max_df=1.0,\n",
              "                                 max_features=None, min_df=1,\n",
              "                                 ngram_range=(1, 1), preprocessor=None,\n",
              "                                 stop_words=None, strip_accents=None,\n",
              "                                 token_pattern='(?u)\\\\b\\\\w\\\\w+\\\\b',\n",
              "                                 tokenizer=None, vocabulary=None)),\n",
              "                ('tfidf',\n",
              "                 TfidfTransformer(norm='l2', smooth_idf=True,\n",
              "                                  sublinear_tf=False, use_idf=True)),\n",
              "                ('classifier',\n",
              "                 MultinomialNB(alpha=1.0, class_prior=None, fit_prior=True))],\n",
              "         verbose=False)"
            ]
          },
          "metadata": {
            "tags": []
          },
          "execution_count": 46
        }
      ]
    },
    {
      "cell_type": "code",
      "metadata": {
        "id": "cnM-mcmtEM2x"
      },
      "source": [
        "predictions=pipeline.predict(msg_test)"
      ],
      "execution_count": 47,
      "outputs": []
    },
    {
      "cell_type": "code",
      "metadata": {
        "id": "SPmuduZ7EUdC",
        "outputId": "e220e2c2-102c-4fe4-d360-03ae4b5a25b3",
        "colab": {
          "base_uri": "https://localhost:8080/",
          "height": 204
        }
      },
      "source": [
        "from sklearn.metrics import classification_report\n",
        "\n",
        "pd.DataFrame(classification_report(label_test, predictions, output_dict=True)).transpose()"
      ],
      "execution_count": 49,
      "outputs": [
        {
          "output_type": "execute_result",
          "data": {
            "text/html": [
              "<div>\n",
              "<style scoped>\n",
              "    .dataframe tbody tr th:only-of-type {\n",
              "        vertical-align: middle;\n",
              "    }\n",
              "\n",
              "    .dataframe tbody tr th {\n",
              "        vertical-align: top;\n",
              "    }\n",
              "\n",
              "    .dataframe thead th {\n",
              "        text-align: right;\n",
              "    }\n",
              "</style>\n",
              "<table border=\"1\" class=\"dataframe\">\n",
              "  <thead>\n",
              "    <tr style=\"text-align: right;\">\n",
              "      <th></th>\n",
              "      <th>precision</th>\n",
              "      <th>recall</th>\n",
              "      <th>f1-score</th>\n",
              "      <th>support</th>\n",
              "    </tr>\n",
              "  </thead>\n",
              "  <tbody>\n",
              "    <tr>\n",
              "      <th>ham</th>\n",
              "      <td>0.956291</td>\n",
              "      <td>1.000000</td>\n",
              "      <td>0.977657</td>\n",
              "      <td>1444.000000</td>\n",
              "    </tr>\n",
              "    <tr>\n",
              "      <th>spam</th>\n",
              "      <td>1.000000</td>\n",
              "      <td>0.710526</td>\n",
              "      <td>0.830769</td>\n",
              "      <td>228.000000</td>\n",
              "    </tr>\n",
              "    <tr>\n",
              "      <th>accuracy</th>\n",
              "      <td>0.960526</td>\n",
              "      <td>0.960526</td>\n",
              "      <td>0.960526</td>\n",
              "      <td>0.960526</td>\n",
              "    </tr>\n",
              "    <tr>\n",
              "      <th>macro avg</th>\n",
              "      <td>0.978146</td>\n",
              "      <td>0.855263</td>\n",
              "      <td>0.904213</td>\n",
              "      <td>1672.000000</td>\n",
              "    </tr>\n",
              "    <tr>\n",
              "      <th>weighted avg</th>\n",
              "      <td>0.962252</td>\n",
              "      <td>0.960526</td>\n",
              "      <td>0.957627</td>\n",
              "      <td>1672.000000</td>\n",
              "    </tr>\n",
              "  </tbody>\n",
              "</table>\n",
              "</div>"
            ],
            "text/plain": [
              "              precision    recall  f1-score      support\n",
              "ham            0.956291  1.000000  0.977657  1444.000000\n",
              "spam           1.000000  0.710526  0.830769   228.000000\n",
              "accuracy       0.960526  0.960526  0.960526     0.960526\n",
              "macro avg      0.978146  0.855263  0.904213  1672.000000\n",
              "weighted avg   0.962252  0.960526  0.957627  1672.000000"
            ]
          },
          "metadata": {
            "tags": []
          },
          "execution_count": 49
        }
      ]
    },
    {
      "cell_type": "markdown",
      "metadata": {
        "id": "wUW7RyUdHhis"
      },
      "source": [
        "## Repeat with RandomForestClassifier"
      ]
    },
    {
      "cell_type": "code",
      "metadata": {
        "id": "jC98pL_eHl91"
      },
      "source": [
        "from sklearn.pipeline import Pipeline\n",
        "from sklearn.ensemble import RandomForestClassifier\n",
        "\n",
        "pipeline = Pipeline([\n",
        "                     ('bow', CountVectorizer(analyzer=clean_string)),\n",
        "                     ('tfidf', TfidfTransformer()),\n",
        "                     ('classifier', RandomForestClassifier())\n",
        "])"
      ],
      "execution_count": 51,
      "outputs": []
    },
    {
      "cell_type": "code",
      "metadata": {
        "id": "g3XWF5kYHzvR",
        "outputId": "80a1a1c5-a200-479b-fb0a-c0621c419354",
        "colab": {
          "base_uri": "https://localhost:8080/",
          "height": 204
        }
      },
      "source": [
        "pipeline.fit(msg_train, label_train)\n",
        "predictions=pipeline.predict(msg_test)\n",
        "pd.DataFrame(classification_report(label_test, predictions, output_dict=True)).transpose()"
      ],
      "execution_count": 52,
      "outputs": [
        {
          "output_type": "execute_result",
          "data": {
            "text/html": [
              "<div>\n",
              "<style scoped>\n",
              "    .dataframe tbody tr th:only-of-type {\n",
              "        vertical-align: middle;\n",
              "    }\n",
              "\n",
              "    .dataframe tbody tr th {\n",
              "        vertical-align: top;\n",
              "    }\n",
              "\n",
              "    .dataframe thead th {\n",
              "        text-align: right;\n",
              "    }\n",
              "</style>\n",
              "<table border=\"1\" class=\"dataframe\">\n",
              "  <thead>\n",
              "    <tr style=\"text-align: right;\">\n",
              "      <th></th>\n",
              "      <th>precision</th>\n",
              "      <th>recall</th>\n",
              "      <th>f1-score</th>\n",
              "      <th>support</th>\n",
              "    </tr>\n",
              "  </thead>\n",
              "  <tbody>\n",
              "    <tr>\n",
              "      <th>ham</th>\n",
              "      <td>0.967180</td>\n",
              "      <td>1.000000</td>\n",
              "      <td>0.983316</td>\n",
              "      <td>1444.000000</td>\n",
              "    </tr>\n",
              "    <tr>\n",
              "      <th>spam</th>\n",
              "      <td>1.000000</td>\n",
              "      <td>0.785088</td>\n",
              "      <td>0.879607</td>\n",
              "      <td>228.000000</td>\n",
              "    </tr>\n",
              "    <tr>\n",
              "      <th>accuracy</th>\n",
              "      <td>0.970694</td>\n",
              "      <td>0.970694</td>\n",
              "      <td>0.970694</td>\n",
              "      <td>0.970694</td>\n",
              "    </tr>\n",
              "    <tr>\n",
              "      <th>macro avg</th>\n",
              "      <td>0.983590</td>\n",
              "      <td>0.892544</td>\n",
              "      <td>0.931462</td>\n",
              "      <td>1672.000000</td>\n",
              "    </tr>\n",
              "    <tr>\n",
              "      <th>weighted avg</th>\n",
              "      <td>0.971656</td>\n",
              "      <td>0.970694</td>\n",
              "      <td>0.969174</td>\n",
              "      <td>1672.000000</td>\n",
              "    </tr>\n",
              "  </tbody>\n",
              "</table>\n",
              "</div>"
            ],
            "text/plain": [
              "              precision    recall  f1-score      support\n",
              "ham            0.967180  1.000000  0.983316  1444.000000\n",
              "spam           1.000000  0.785088  0.879607   228.000000\n",
              "accuracy       0.970694  0.970694  0.970694     0.970694\n",
              "macro avg      0.983590  0.892544  0.931462  1672.000000\n",
              "weighted avg   0.971656  0.970694  0.969174  1672.000000"
            ]
          },
          "metadata": {
            "tags": []
          },
          "execution_count": 52
        }
      ]
    }
  ]
}