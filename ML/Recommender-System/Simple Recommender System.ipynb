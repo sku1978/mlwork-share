{
  "nbformat": 4,
  "nbformat_minor": 0,
  "metadata": {
    "colab": {
      "name": "Untitled9.ipynb",
      "provenance": [],
      "authorship_tag": "ABX9TyMijATciiL0MIqwkHZgUBkP",
      "include_colab_link": true
    },
    "kernelspec": {
      "name": "python3",
      "display_name": "Python 3"
    },
    "language_info": {
      "name": "python"
    }
  },
  "cells": [
    {
      "cell_type": "markdown",
      "metadata": {
        "id": "view-in-github",
        "colab_type": "text"
      },
      "source": [
        "<a href=\"https://colab.research.google.com/github/sku1978/sk-share-repo/blob/main/ML/Recommender-System/Simple%20Recommender%20System.ipynb\" target=\"_parent\"><img src=\"https://colab.research.google.com/assets/colab-badge.svg\" alt=\"Open In Colab\"/></a>"
      ]
    },
    {
      "cell_type": "code",
      "metadata": {
        "id": "RcpVLpO2DWCT"
      },
      "source": [
        "import numpy as np\n",
        "import pandas as pd"
      ],
      "execution_count": 2,
      "outputs": []
    },
    {
      "cell_type": "code",
      "metadata": {
        "id": "F0ctY5j8FuND"
      },
      "source": [
        "import datetime\n",
        "def dateparse (time_in_secs):\n",
        "  try : \n",
        "    return datetime.datetime.fromtimestamp(float(time_in_secs))\n",
        "  except:\n",
        "    return datetime.datetime.fromtimestamp(float(0))"
      ],
      "execution_count": 16,
      "outputs": []
    },
    {
      "cell_type": "code",
      "metadata": {
        "id": "yWiAgrMZD-5k"
      },
      "source": [
        "column_names=['userId','movieId','rating','timestamp']\n",
        "\n",
        "df=pd.read_csv('https://raw.githubusercontent.com/sku1978/sk-share-repo/main/ML/Recommender-System/ratings.csv', sep=',', parse_dates=['timestamp'], date_parser=dateparse)"
      ],
      "execution_count": 21,
      "outputs": []
    },
    {
      "cell_type": "code",
      "metadata": {
        "colab": {
          "base_uri": "https://localhost:8080/"
        },
        "id": "1-K2NBSTE--d",
        "outputId": "e7806410-ea31-43b9-a140-55f2e7efd9a5"
      },
      "source": [
        "df.info()"
      ],
      "execution_count": 23,
      "outputs": [
        {
          "output_type": "stream",
          "text": [
            "<class 'pandas.core.frame.DataFrame'>\n",
            "RangeIndex: 100836 entries, 0 to 100835\n",
            "Data columns (total 4 columns):\n",
            " #   Column     Non-Null Count   Dtype         \n",
            "---  ------     --------------   -----         \n",
            " 0   userId     100836 non-null  int64         \n",
            " 1   movieId    100836 non-null  int64         \n",
            " 2   rating     100836 non-null  float64       \n",
            " 3   timestamp  100836 non-null  datetime64[ns]\n",
            "dtypes: datetime64[ns](1), float64(1), int64(2)\n",
            "memory usage: 3.1 MB\n"
          ],
          "name": "stdout"
        }
      ]
    }
  ]
}